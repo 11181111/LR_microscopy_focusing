{
 "cells": [
  {
   "cell_type": "markdown",
   "metadata": {},
   "source": [
    "# ИССЛЕДОВАНИЕ ХАРАКТЕРИСТИК РЕЗКОСТИ МИКРОСКОПИЧЕСКИХ ИЗОБРАЖЕНИЙ МЕДИКО-БИОЛОГИЧЕСКИХ ПРЕПАРАТОВ\n",
    "## Задание выполнено студентом \n",
    "## группы: ____________________________________________________\n",
    "## ФИО: ________________________________________________________________\n",
    "\n",
    "\n",
    "# 1) Сумма квадратов гауссовых производных"
   ]
  },
  {
   "cell_type": "markdown",
   "metadata": {},
   "source": [
    "## Теоретические сведения"
   ]
  },
  {
   "cell_type": "markdown",
   "metadata": {},
   "source": [
    "Алгоритм относится к характеристикам, основанным на вычислении производной. Алгоритм основывается на использовании производных Гауссова фильтра в горизонтальном и вертикальном направлениях:\n"
   ]
  },
  {
   "attachments": {
    "image.png": {
     "image/png": "[encoded data removed]"
    }
   },
   "cell_type": "markdown",
   "metadata": {},
   "source": [
    "![image.png](attachment:image.png)"
   ]
  },
  {
   "cell_type": "markdown",
   "metadata": {},
   "source": [
    "где\tH, W – высота и ширина изображения;   \n",
    "    Gx(x, y, σ) и Gy(x, y, σ) – производные Гауссова фильтра в горизонтальном и     вертикальном направлениях;   \n",
    "    σ – среднеквадратичное отклонение распределения, равное:"
   ]
  },
  {
   "attachments": {
    "image.png": {
     "image/png": "[encoded data removed]"
    }
   },
   "cell_type": "markdown",
   "metadata": {},
   "source": [
    "![image.png](attachment:image.png)"
   ]
  },
  {
   "cell_type": "markdown",
   "metadata": {},
   "source": [
    "## Ход работы"
   ]
  },
  {
   "cell_type": "markdown",
   "metadata": {},
   "source": [
    "1) Расположите снятые изображения в папке Images."
   ]
  },
  {
   "cell_type": "markdown",
   "metadata": {},
   "source": [
    "Далее выполняем скрипт программы, написанной на Python."
   ]
  },
  {
   "cell_type": "markdown",
   "metadata": {},
   "source": [
    "2) Импортируем необходимые библиотечные модули:"
   ]
  },
  {
   "cell_type": "code",
   "execution_count": null,
   "metadata": {},
   "outputs": [],
   "source": [
    "import matplotlib.pyplot as plt\n",
    "from scipy.misc import imread\n",
    "from scipy import ndimage, linalg, fftpack\n",
    "from math import sqrt\n",
    "import numpy as np\n",
    "import pywt\n",
    "from skimage import morphology"
   ]
  },
  {
   "cell_type": "markdown",
   "metadata": {},
   "source": [
    "Подробнее про используемые библиотеки:   \n",
    "https://matplotlib.org/    \n",
    "https://docs.scipy.org/doc/scipy/reference/  \n",
    "https://docs.python.org/3/library/math.html    \n",
    "http://www.numpy.org/   \n",
    "https://pywavelets.readthedocs.io/en/latest/   \n",
    "https://scikit-image.org/"
   ]
  },
  {
   "cell_type": "markdown",
   "metadata": {},
   "source": [
    "3) Укажем количество изображений для анализа (предполагается, что в ходе лабораторной работы было снято 41 изображение от -20 до 20:"
   ]
  },
  {
   "cell_type": "code",
   "execution_count": null,
   "metadata": {},
   "outputs": [],
   "source": [
    "n = 41"
   ]
  },
  {
   "cell_type": "markdown",
   "metadata": {},
   "source": [
    "4) Создадим список для хранения изображений и значений величины сфокусированности (список создается заполненым нулями и заранее заданного размера для обеспечения удобства наблюдения за ходом вычисления резкости): "
   ]
  },
  {
   "cell_type": "code",
   "execution_count": null,
   "metadata": {},
   "outputs": [],
   "source": [
    "img = [0]*n\n",
    "focus_value = [0]*n"
   ]
  },
  {
   "cell_type": "markdown",
   "metadata": {},
   "source": [
    "Считаем изображения (дописать директорию!):  "
   ]
  },
  {
   "cell_type": "code",
   "execution_count": null,
   "metadata": {},
   "outputs": [],
   "source": [
    "for k in range(0,n):\n",
    "    # чтение изображений\n",
    "    img[k] = imread('Images/_______/{}.png'.format(-20+k), False , 'L')"
   ]
  },
  {
   "cell_type": "markdown",
   "metadata": {},
   "source": [
    "5) Создадим цикл в котором в диапазоне от 0 до n + 1 (+1 - поскольку range не включает последнее число) выполним ряд операций: "
   ]
  },
  {
   "cell_type": "code",
   "execution_count": null,
   "metadata": {},
   "outputs": [],
   "source": [
    "for k in range(0,n):\n",
    "    print(\"Image '\"+str(k-20)+\"' processed\")\n",
    "    \n",
    "    # определение размеров изображения\n",
    "    H, W = img[k].shape\n",
    "    \n",
    "    # расчет значения сигмы\n",
    "    s = 1.1/(2*sqrt(3))\n",
    "    \n",
    "    # обнуление значений переменных\n",
    "    fx = 0\n",
    "    fy = 0\n",
    "    \n",
    "    # примененение Гауссового фильтра в горизонтальном направлении\n",
    "    for i in range(0,H):\n",
    "        fx += (ndimage.filters.gaussian_filter(img[k][i], s, 1 )**2)\n",
    "        \n",
    "    # примененение Гауссового фильтра в вертикальном направлении\n",
    "    for j in range(0,W):\n",
    "        fy += (ndimage.filters.gaussian_filter(img[k][:,j], s, 1 )**2)\n",
    "    \n",
    "    # расчет значения резкости\n",
    "    f = sum(fx) + sum(fy)\n",
    "    focus_value[k] = (1/(H*W)) * f        \n",
    "print(focus_value, '\\n')"
   ]
  },
  {
   "cell_type": "markdown",
   "metadata": {},
   "source": [
    "6) Построим фокусирочную кривую и определим сфокусировонное изображение как максимум данной кривой:"
   ]
  },
  {
   "cell_type": "code",
   "execution_count": null,
   "metadata": {},
   "outputs": [],
   "source": [
    "y_axis = focus_value\n",
    "x_axis = np.linspace(-20, 20, len(y_axis), endpoint=True)\n",
    "plt.plot(x_axis,y_axis)\n",
    "plt.xlabel('Номер изображения (z-ось)')\n",
    "plt.ylabel('Значение резкости (ед.)')\n",
    "plt.grid()\n",
    "plt.show()\n",
    "\n",
    "focused_num_SKGP = int(x_axis[y_axis.index(max(y_axis))])\n",
    "print(\"Сфокусированное изображение:\", focused_num_SKGP)"
   ]
  },
  {
   "cell_type": "markdown",
   "metadata": {},
   "source": [
    "7) Посмотрим на данное изображение:"
   ]
  },
  {
   "cell_type": "code",
   "execution_count": null,
   "metadata": {},
   "outputs": [],
   "source": [
    "plt.imshow(img[y_axis.index(max(y_axis))], 'gray')\n",
    "plt.title('Сфокусированное изображние №'+str(focused_num_SKGP))\n",
    "plt.axis('off')\n",
    "plt.show()"
   ]
  },
  {
   "cell_type": "markdown",
   "metadata": {},
   "source": [
    "## Анализ полученных данных\n",
    "\n",
    "Проанализировать (описать) полученную фокусировочную кривую в соответсвии с критериями:   \n",
    "- точности;\n",
    "- локальных максимумов;\n",
    "- области значений;\n",
    "- ширины;\n",
    "- уровня шума."
   ]
  },
  {
   "cell_type": "markdown",
   "metadata": {},
   "source": [
    "### // Ответ можно написать ниже\n",
    "/    \n",
    "/   \n",
    "/   \n",
    "/   \n",
    "/   "
   ]
  },
  {
   "cell_type": "markdown",
   "metadata": {},
   "source": [
    "# 2) Градиент Тененбаума"
   ]
  },
  {
   "cell_type": "markdown",
   "metadata": {},
   "source": [
    "## Теоретические сведения"
   ]
  },
  {
   "cell_type": "markdown",
   "metadata": {},
   "source": [
    "В данном методе расчета изображение подвергается свертке с операторами Собеля Sx(x, y) и Sy(x, y), а затем проводится суммирование квадратов вектора градиента:"
   ]
  },
  {
   "attachments": {
    "image.png": {
     "image/png": "[encoded data removed]"
    }
   },
   "cell_type": "markdown",
   "metadata": {},
   "source": [
    "![image.png](attachment:image.png)"
   ]
  },
  {
   "cell_type": "markdown",
   "metadata": {},
   "source": [
    "## Ход работы"
   ]
  },
  {
   "cell_type": "markdown",
   "metadata": {},
   "source": [
    "Полагаем, что импортирование библиотек и считывание изображений было выполнено ранее. Предварительно очистим список, содержащий значения резкости:"
   ]
  },
  {
   "cell_type": "code",
   "execution_count": null,
   "metadata": {},
   "outputs": [],
   "source": [
    "focus_value = [0]*n"
   ]
  },
  {
   "cell_type": "markdown",
   "metadata": {},
   "source": [
    "1) В цикле последовательно выполним операции, аналогично предыдущему случаю:"
   ]
  },
  {
   "cell_type": "code",
   "execution_count": null,
   "metadata": {},
   "outputs": [],
   "source": [
    "for k in range(0,n):  \n",
    "    print(\"Image '\"+str(k-20)+\"' processed\")\n",
    "    \n",
    "    # Применение оператора Собеля в горизонтальном направлении \n",
    "    dx = ndimage.sobel(img[k], 0)\n",
    "    # Применение оператора Собеля в вертикальном направлении \n",
    "    dy = ndimage.sobel(img[k], 1)\n",
    "    \n",
    "    # Расчет характеристики резкости в соответствии с формулой \n",
    "    focus_value[k] = ndimage.sum(((dx**2) + (dy**2)))\n",
    "print(focus_value, '\\n')"
   ]
  },
  {
   "cell_type": "markdown",
   "metadata": {},
   "source": [
    "2) Построим фокусирочную кривую и определим сфокусировонное изображение как максимум данной кривой:"
   ]
  },
  {
   "cell_type": "code",
   "execution_count": null,
   "metadata": {},
   "outputs": [],
   "source": [
    "y_axis = focus_value\n",
    "x_axis = np.linspace(-20, 20, len(y_axis), endpoint=True)\n",
    "plt.plot(x_axis,y_axis)\n",
    "plt.xlabel('Номер изображения (z-ось)')\n",
    "plt.ylabel('Значение резкости (ед.)')\n",
    "plt.grid()\n",
    "plt.show()\n",
    "\n",
    "focused_num_Tenenbaum = int(x_axis[y_axis.index(max(y_axis))])\n",
    "print(\"Сфокусированное изображение:\", focused_num_Tenenbaum)"
   ]
  },
  {
   "cell_type": "markdown",
   "metadata": {},
   "source": [
    "3) Посмотрим на данное изображение:"
   ]
  },
  {
   "cell_type": "code",
   "execution_count": null,
   "metadata": {},
   "outputs": [],
   "source": [
    "plt.imshow(img[y_axis.index(max(y_axis))], 'gray')\n",
    "plt.title('Сфокусированное изображние №'+str(focused_num_Tenenbaum))\n",
    "plt.axis('off')\n",
    "plt.show()"
   ]
  },
  {
   "cell_type": "markdown",
   "metadata": {},
   "source": [
    "## Анализ полученных данных\n",
    "\n",
    "Проанализировать (описать) полученную фокусировочную кривую в соответсвии с критериями:   \n",
    "- точности;\n",
    "- локальных максимумов;\n",
    "- области значений;\n",
    "- ширины;\n",
    "- уровня шума."
   ]
  },
  {
   "cell_type": "markdown",
   "metadata": {},
   "source": [
    "### // Ответ можно написать ниже\n",
    "/    \n",
    "/   \n",
    "/   \n",
    "/   \n",
    "/   "
   ]
  },
  {
   "cell_type": "markdown",
   "metadata": {},
   "source": [
    "# 3) Сумма модифицированных лапласианов "
   ]
  },
  {
   "cell_type": "markdown",
   "metadata": {},
   "source": [
    "## Теоретические сведения"
   ]
  },
  {
   "cell_type": "markdown",
   "metadata": {},
   "source": [
    "В данном алгоритме суммируются абсолютные значения свертки изображе-ния с операторами Лапласа Lx(x, y) и Ly(x, y):"
   ]
  },
  {
   "attachments": {
    "image.png": {
     "image/png": "[encoded data removed]"
    }
   },
   "cell_type": "markdown",
   "metadata": {},
   "source": [
    "![image.png](attachment:image.png)"
   ]
  },
  {
   "cell_type": "markdown",
   "metadata": {},
   "source": [
    "## Ход работы"
   ]
  },
  {
   "cell_type": "markdown",
   "metadata": {},
   "source": [
    "Предварительно очистим список для значений резкости"
   ]
  },
  {
   "cell_type": "code",
   "execution_count": null,
   "metadata": {},
   "outputs": [],
   "source": [
    "focus_value = [0]*n"
   ]
  },
  {
   "cell_type": "markdown",
   "metadata": {},
   "source": [
    "1) В цикле для каждого изображения выполним операции:"
   ]
  },
  {
   "cell_type": "code",
   "execution_count": null,
   "metadata": {},
   "outputs": [],
   "source": [
    "for k in range(0,n):\n",
    "    print(\"Image '\"+str(k-20)+\"' processed\")\n",
    "        \n",
    "    # Вычисление Лапласиана для изображения\n",
    "    Lapl = ndimage.laplace(img[k])\n",
    "    # Применение оператора Лапласа к изображения в горизонтальном направлении\n",
    "    Laplx = np.gradient(Lapl, axis = 0)\n",
    "    # Применение оператора Лапласа к изображения в вертикальном направлении\n",
    "    Laply = np.gradient(Lapl, axis =1)\n",
    "   \n",
    "    # Расчет резкости изображения в соотвествии с формулой\n",
    "    focus_value[k] = ndimage.sum(abs(Laplx) + abs(Laply))\n",
    "print(focus_value, '\\n')"
   ]
  },
  {
   "cell_type": "markdown",
   "metadata": {},
   "source": [
    "2) Построим фокусирочную кривую и определим сфокусировонное изображение как максимум данной кривой:"
   ]
  },
  {
   "cell_type": "code",
   "execution_count": null,
   "metadata": {},
   "outputs": [],
   "source": [
    "y_axis = focus_value\n",
    "x_axis = np.linspace(-20, 20, len(y_axis), endpoint=True)\n",
    "plt.plot(x_axis,y_axis)\n",
    "plt.xlabel('Номер изображения (z-ось)')\n",
    "plt.ylabel('Значение резкости (ед.)')\n",
    "plt.grid()\n",
    "plt.show()\n",
    "\n",
    "focused_num_Laplace = int(x_axis[y_axis.index(max(y_axis))])\n",
    "print(\"Сфокусированное изображение:\", focused_num_Laplace)"
   ]
  },
  {
   "cell_type": "markdown",
   "metadata": {},
   "source": [
    "3) Посмотрим на данное изображение:"
   ]
  },
  {
   "cell_type": "code",
   "execution_count": null,
   "metadata": {
    "scrolled": true
   },
   "outputs": [],
   "source": [
    "plt.imshow(img[y_axis.index(max(y_axis))], 'gray')\n",
    "plt.title('Сфокусированное изображние №'+str(focused_num_Laplace))\n",
    "plt.axis('off')\n",
    "plt.show()"
   ]
  },
  {
   "cell_type": "markdown",
   "metadata": {},
   "source": [
    "## Анализ полученных данных\n",
    "\n",
    "Проанализировать (описать) полученную фокусировочную кривую в соответсвии с критериями:   \n",
    "- точности;\n",
    "- локальных максимумов;\n",
    "- области значений;\n",
    "- ширины;\n",
    "- уровня шума."
   ]
  },
  {
   "cell_type": "markdown",
   "metadata": {},
   "source": [
    "### // Ответ можно написать ниже\n",
    "/    \n",
    "/   \n",
    "/   \n",
    "/   \n",
    "/   "
   ]
  },
  {
   "cell_type": "markdown",
   "metadata": {},
   "source": [
    "# 4) Дисперсия"
   ]
  },
  {
   "cell_type": "markdown",
   "metadata": {},
   "source": [
    "## Теоретические сведения"
   ]
  },
  {
   "cell_type": "markdown",
   "metadata": {},
   "source": [
    "Алгоритм вычисляет отклонение уровня интенсивности пикселей серошкаль-ного изображения от среднего значения интенсивности μ:"
   ]
  },
  {
   "attachments": {
    "image.png": {
     "image/png": "[encoded data removed]"
    }
   },
   "cell_type": "markdown",
   "metadata": {},
   "source": [
    "![image.png](attachment:image.png)"
   ]
  },
  {
   "cell_type": "markdown",
   "metadata": {},
   "source": [
    "## Ход работы"
   ]
  },
  {
   "cell_type": "markdown",
   "metadata": {},
   "source": [
    "Очистим список для значений резкости:"
   ]
  },
  {
   "cell_type": "code",
   "execution_count": null,
   "metadata": {},
   "outputs": [],
   "source": [
    "focus_value = [0]*n"
   ]
  },
  {
   "cell_type": "markdown",
   "metadata": {},
   "source": [
    "1) В цикле для каждого изображения выполним операции:"
   ]
  },
  {
   "cell_type": "code",
   "execution_count": null,
   "metadata": {},
   "outputs": [],
   "source": [
    "for k in range(0,n):\n",
    "    print(\"Image '\"+str(k-20)+\"' processed\")\n",
    "    \n",
    "    # Определим среднее значение\n",
    "    int_mean = ndimage.mean(img[k])\n",
    "    \n",
    "    # Рассчитаем значение резкости по формуле\n",
    "    focus_value[k] = ((linalg.norm(img[k]-int_mean))**2)/(H*W)\n",
    "print(focus_value, '\\n\\n')"
   ]
  },
  {
   "cell_type": "markdown",
   "metadata": {},
   "source": [
    "2) Построим фокусирочную кривую и определим сфокусировонное изображение как максимум данной кривой:"
   ]
  },
  {
   "cell_type": "code",
   "execution_count": null,
   "metadata": {},
   "outputs": [],
   "source": [
    "y_axis = focus_value\n",
    "x_axis = np.linspace(-20, 20, len(y_axis), endpoint=True)\n",
    "plt.plot(x_axis,y_axis)\n",
    "plt.xlabel('Номер изображения (z-ось)')\n",
    "plt.ylabel('Значение резкости (ед.)')\n",
    "plt.grid()\n",
    "plt.show()\n",
    "\n",
    "focused_num_Variance = int(x_axis[y_axis.index(max(y_axis))])\n",
    "print(\"Сфокусированное изображение:\", focused_num_Variance)"
   ]
  },
  {
   "cell_type": "markdown",
   "metadata": {},
   "source": [
    "3) Посмотрим на данное изображение:"
   ]
  },
  {
   "cell_type": "code",
   "execution_count": null,
   "metadata": {},
   "outputs": [],
   "source": [
    "plt.imshow(img[y_axis.index(max(y_axis))], 'gray')\n",
    "plt.title('Сфокусированное изображние №'+str(focused_num_Variance))\n",
    "plt.axis('off')\n",
    "plt.show()"
   ]
  },
  {
   "cell_type": "markdown",
   "metadata": {},
   "source": [
    "## Анализ полученных данных\n",
    "\n",
    "Проанализировать (описать) полученную фокусировочную кривую в соответсвии с критериями:   \n",
    "- точности;\n",
    "- локальных максимумов;\n",
    "- области значений;\n",
    "- ширины;\n",
    "- уровня шума."
   ]
  },
  {
   "cell_type": "markdown",
   "metadata": {},
   "source": [
    "### // Ответ можно написать ниже\n",
    "/    \n",
    "/   \n",
    "/   \n",
    "/   \n",
    "/   "
   ]
  },
  {
   "cell_type": "markdown",
   "metadata": {},
   "source": [
    "# 5) Автокорреляция"
   ]
  },
  {
   "cell_type": "markdown",
   "metadata": {},
   "source": [
    "## Теоретические сведения"
   ]
  },
  {
   "cell_type": "markdown",
   "metadata": {},
   "source": [
    "Алгоритм вычисляет корреляционную функцию для данного изображения:"
   ]
  },
  {
   "attachments": {
    "image.png": {
     "image/png": "[encoded data removed]"
    }
   },
   "cell_type": "markdown",
   "metadata": {},
   "source": [
    "![image.png](attachment:image.png)"
   ]
  },
  {
   "cell_type": "markdown",
   "metadata": {},
   "source": [
    "## Ход работы"
   ]
  },
  {
   "cell_type": "markdown",
   "metadata": {},
   "source": [
    "Очистим список для значений резкости:"
   ]
  },
  {
   "cell_type": "code",
   "execution_count": null,
   "metadata": {},
   "outputs": [],
   "source": [
    "focus_value = [0]*n"
   ]
  },
  {
   "cell_type": "markdown",
   "metadata": {},
   "source": [
    "1) Напишем функцию для расчета автокорреляции:"
   ]
  },
  {
   "cell_type": "code",
   "execution_count": null,
   "metadata": {},
   "outputs": [],
   "source": [
    "def autocorr(x, t):\n",
    "    return np.corrcoef(np.array([x[0:len(x)-t], x[t:len(x)]]))"
   ]
  },
  {
   "cell_type": "markdown",
   "metadata": {},
   "source": [
    "2) Создадим списки для хранения значений расчета автокорреляции"
   ]
  },
  {
   "cell_type": "code",
   "execution_count": null,
   "metadata": {},
   "outputs": [],
   "source": [
    "temp = [0]*n\n",
    "correl1 = []\n",
    "correl2 = []"
   ]
  },
  {
   "cell_type": "code",
   "execution_count": null,
   "metadata": {},
   "outputs": [],
   "source": [
    "for k in range(0,n):\n",
    "    print(\"Image '\"+str(k-20)+\"' processed\")\n",
    "    \n",
    "    # Расчет автокорреляции с помощью написанной функции\n",
    "    for row in img[k]:\n",
    "        correl1.append((autocorr(row,1)))\n",
    "        correl2.append((autocorr(row,2)))\n",
    "        \n",
    "    # Расчет разности автокорреляци1   \n",
    "    temp[k] = ((sum(correl1))-(sum(correl2)))\n",
    "    focus_value[k] = temp[k][0][1]\n",
    "    \n",
    "    # очистим списки для хранения значений автокорреляции\n",
    "    del correl1[:]\n",
    "    del correl2[:]\n",
    "    \n",
    "print(focus_value, '\\n')"
   ]
  },
  {
   "cell_type": "markdown",
   "metadata": {},
   "source": [
    "2) Построим фокусирочную кривую и определим сфокусировонное изображение как максимум данной кривой:"
   ]
  },
  {
   "cell_type": "code",
   "execution_count": null,
   "metadata": {},
   "outputs": [],
   "source": [
    "y_axis = focus_value\n",
    "x_axis = np.linspace(-20, 20, len(y_axis), endpoint=True)\n",
    "plt.plot(x_axis,y_axis)\n",
    "plt.xlabel('Номер изображения (z-ось)')\n",
    "plt.ylabel('Значение резкости (ед.)')\n",
    "plt.grid()\n",
    "plt.show()\n",
    "\n",
    "focused_num_Autocorrelation = int(x_axis[y_axis.index(max(y_axis))])\n",
    "print(\"Сфокусированное изображение:\", focused_num_Autocorrelation)"
   ]
  },
  {
   "cell_type": "markdown",
   "metadata": {},
   "source": [
    "3) Посмотрим на данное изображение:"
   ]
  },
  {
   "cell_type": "code",
   "execution_count": null,
   "metadata": {
    "scrolled": true
   },
   "outputs": [],
   "source": [
    "plt.imshow(img[y_axis.index(max(y_axis))], 'gray')\n",
    "plt.title('Сфокусированное изображние №'+str(focused_num_Autocorrelation))\n",
    "plt.axis('off')\n",
    "plt.show()"
   ]
  },
  {
   "cell_type": "markdown",
   "metadata": {},
   "source": [
    "## Анализ полученных данных\n",
    "\n",
    "Проанализировать (описать) полученную фокусировочную кривую в соответсвии с критериями:   \n",
    "- точности;\n",
    "- локальных максимумов;\n",
    "- области значений;\n",
    "- ширины;\n",
    "- уровня шума."
   ]
  },
  {
   "cell_type": "markdown",
   "metadata": {},
   "source": [
    "### // Ответ можно написать ниже\n",
    "/    \n",
    "/   \n",
    "/   \n",
    "/   \n",
    "/   "
   ]
  },
  {
   "cell_type": "markdown",
   "metadata": {},
   "source": [
    "# 6) Байесовская энтропия спектра"
   ]
  },
  {
   "cell_type": "markdown",
   "metadata": {},
   "source": [
    "## Теоретические сведения"
   ]
  },
  {
   "cell_type": "markdown",
   "metadata": {},
   "source": [
    "Характеристика использует дискретное косинусное преобразование:"
   ]
  },
  {
   "attachments": {
    "image.png": {
     "image/png": "[encoded data removed]"
    }
   },
   "cell_type": "markdown",
   "metadata": {},
   "source": [
    "![image.png](attachment:image.png)"
   ]
  },
  {
   "cell_type": "markdown",
   "metadata": {},
   "source": [
    "где\tFC – дискретное косинусное преобразование изображения;   \n",
    "(u, v) – координаты в пространственно-частотной области.\n"
   ]
  },
  {
   "cell_type": "markdown",
   "metadata": {},
   "source": [
    "## Ход работы"
   ]
  },
  {
   "cell_type": "markdown",
   "metadata": {},
   "source": [
    "Очистим список для значений резкости:"
   ]
  },
  {
   "cell_type": "code",
   "execution_count": null,
   "metadata": {},
   "outputs": [],
   "source": [
    "focus_value = [0]*n"
   ]
  },
  {
   "cell_type": "markdown",
   "metadata": {},
   "source": [
    "1) В цикле для каждого изображения выполним операции:"
   ]
  },
  {
   "cell_type": "code",
   "execution_count": null,
   "metadata": {},
   "outputs": [],
   "source": [
    "for k in range(0,n):\n",
    "    print(\"Image '\"+str(k-20)+\"' processed\")\n",
    "    \n",
    "    # Вычисление дискретного косинусного преобразования\n",
    "    f_dct = (fftpack.dct(img[k]))\n",
    "    # Вычисление норм\n",
    "    f_norm1 = (linalg.norm(f_dct))**2\n",
    "    f_norm2 = (linalg.norm(f_dct, 'nuc'))**2\n",
    "\n",
    "    # Вычисление значения резкости по формуле\n",
    "    focus_value[k] = (1 - (f_norm1/f_norm2))\n",
    "print(focus_value, '\\n')"
   ]
  },
  {
   "cell_type": "markdown",
   "metadata": {},
   "source": [
    "2) Построим фокусирочную кривую и определим сфокусировонное изображение как максимум данной кривой:"
   ]
  },
  {
   "cell_type": "code",
   "execution_count": null,
   "metadata": {},
   "outputs": [],
   "source": [
    "y_axis = focus_value\n",
    "x_axis = np.linspace(-20, 20, len(y_axis), endpoint=True)\n",
    "plt.plot(x_axis,y_axis)\n",
    "plt.xlabel('Номер изображения (z-ось)')\n",
    "plt.ylabel('Значение резкости (ед.)')\n",
    "plt.grid()\n",
    "plt.show()\n",
    "\n",
    "focused_num_Bayess = int(x_axis[y_axis.index(max(y_axis))])\n",
    "print(\"Сфокусированное изображение:\", focused_num_Bayess)"
   ]
  },
  {
   "cell_type": "markdown",
   "metadata": {},
   "source": [
    "3) Посмотрим на данное изображение:"
   ]
  },
  {
   "cell_type": "code",
   "execution_count": null,
   "metadata": {},
   "outputs": [],
   "source": [
    "plt.imshow(img[y_axis.index(max(y_axis))], 'gray')\n",
    "plt.title('Сфокусированное изображние №'+str(focused_num_Bayess))\n",
    "plt.axis('off')\n",
    "plt.show()"
   ]
  },
  {
   "cell_type": "markdown",
   "metadata": {},
   "source": [
    "### // Ответ можно написать ниже\n",
    "/    \n",
    "/   \n",
    "/   \n",
    "/   \n",
    "/   "
   ]
  },
  {
   "cell_type": "markdown",
   "metadata": {},
   "source": [
    "# 7) Дискретное вейвлет преобразование"
   ]
  },
  {
   "cell_type": "markdown",
   "metadata": {},
   "source": [
    "## Теоретические сведения"
   ]
  },
  {
   "cell_type": "markdown",
   "metadata": {},
   "source": [
    "Вычисление ДВП позволяет отделить сигналы высокочастотного диапазона от исходного изображения, после чего эти составляющие используются для оценки значения резкости. Изображение разделяется на четыре полосы {LL, LH, HL, HH}, где L и H обозначают низкочастотную и высокочастотную полосы соответственно. Для оценки резкости изображения используется по-лоса HH. Таким образом, для изображения X и его ДВП X* размером (n, m) функция резкости вычисляется как:"
   ]
  },
  {
   "attachments": {
    "image.png": {
     "image/png": "[encoded data removed]"
    }
   },
   "cell_type": "markdown",
   "metadata": {},
   "source": [
    "![image.png](attachment:image.png)"
   ]
  },
  {
   "cell_type": "markdown",
   "metadata": {},
   "source": [
    "## Ход работы"
   ]
  },
  {
   "cell_type": "markdown",
   "metadata": {},
   "source": [
    "Очистим список для значений резкости:"
   ]
  },
  {
   "cell_type": "code",
   "execution_count": null,
   "metadata": {},
   "outputs": [],
   "source": [
    "focus_value = [0]*n"
   ]
  },
  {
   "cell_type": "markdown",
   "metadata": {},
   "source": [
    "1) В цикле для каждого изображения выполним операции:"
   ]
  },
  {
   "cell_type": "code",
   "execution_count": null,
   "metadata": {},
   "outputs": [],
   "source": [
    "for k in range(0,n):\n",
    "    print(\"Image '\"+str(k-20)+\"' processed\")\n",
    "    \n",
    "    # Вычисление коэффициентов преобразования\n",
    "    coeffs = pywt.dwt2(img[k], 'haar')\n",
    "    LL, (LH, HL, HH) = coeffs\n",
    "    \n",
    "    # Вычисление значения резкости по формуле\n",
    "    focus_value[k] = ndimage.sum(abs(HH))\n",
    "    \n",
    "print(focus_value, '\\n')"
   ]
  },
  {
   "cell_type": "markdown",
   "metadata": {},
   "source": [
    "2) Построим фокусирочную кривую и определим сфокусировонное изображение как максимум данной кривой:"
   ]
  },
  {
   "cell_type": "code",
   "execution_count": null,
   "metadata": {},
   "outputs": [],
   "source": [
    "y_axis = focus_value\n",
    "x_axis = np.linspace(-20, 20, len(y_axis), endpoint=True)\n",
    "plt.plot(x_axis,y_axis)\n",
    "plt.xlabel('Номер изображения (z-ось)')\n",
    "plt.ylabel('Значение резкости (ед.)')\n",
    "plt.grid()\n",
    "plt.show()\n",
    "\n",
    "focused_num_DWT = int(x_axis[y_axis.index(max(y_axis))])\n",
    "print(\"Сфокусированное изображение:\", focused_num_DWT)"
   ]
  },
  {
   "cell_type": "markdown",
   "metadata": {},
   "source": [
    "3) Посмотрим на данное изображение:"
   ]
  },
  {
   "cell_type": "code",
   "execution_count": null,
   "metadata": {
    "scrolled": true
   },
   "outputs": [],
   "source": [
    "plt.imshow(img[y_axis.index(max(y_axis))], 'gray')\n",
    "plt.title('Сфокусированное изображние №'+str(focused_num_DWT))\n",
    "plt.axis('off')\n",
    "plt.show()"
   ]
  },
  {
   "cell_type": "markdown",
   "metadata": {},
   "source": [
    "## Анализ полученных данных\n",
    "\n",
    "Проанализировать (описать) полученную фокусировочную кривую в соответсвии с критериями:   \n",
    "- точности;\n",
    "- локальных максимумов;\n",
    "- области значений;\n",
    "- ширины;\n",
    "- уровня шума."
   ]
  },
  {
   "cell_type": "markdown",
   "metadata": {},
   "source": [
    "### // Ответ можно написать ниже\n",
    "/    \n",
    "/   \n",
    "/   \n",
    "/   \n",
    "/   "
   ]
  },
  {
   "cell_type": "markdown",
   "metadata": {},
   "source": [
    "# 8) Алгоритм выделения границ \n"
   ]
  },
  {
   "cell_type": "markdown",
   "metadata": {},
   "source": [
    "## Теоретические сведения\n"
   ]
  },
  {
   "cell_type": "markdown",
   "metadata": {},
   "source": [
    "Данный алгоритм основывается на методах морфологической обработки изображения и используется для оценки резкости из-за вычислительной эффективности. На первом этапе проводится операция дилатации (расширения) границы объекта на изображении. После получения нового изображения X*, проводится суммирование для оценки резкости:"
   ]
  },
  {
   "attachments": {
    "image.png": {
     "image/png": "[encoded data removed]"
    }
   },
   "cell_type": "markdown",
   "metadata": {},
   "source": [
    "![image.png](attachment:image.png)"
   ]
  },
  {
   "cell_type": "markdown",
   "metadata": {},
   "source": [
    "## Ход работы"
   ]
  },
  {
   "cell_type": "markdown",
   "metadata": {},
   "source": [
    "Очистим список для значений резкости и зададим списки для хранения изображений после дилатации и последующей обработки:"
   ]
  },
  {
   "cell_type": "code",
   "execution_count": null,
   "metadata": {},
   "outputs": [],
   "source": [
    "focus_value = [0]*n\n",
    "img_dilat = [0]*n\n",
    "img_result = [0]*n"
   ]
  },
  {
   "cell_type": "markdown",
   "metadata": {},
   "source": [
    "1) В цикле для каждого изображения выполним операции:"
   ]
  },
  {
   "cell_type": "code",
   "execution_count": null,
   "metadata": {},
   "outputs": [],
   "source": [
    "for k in range(0,n):\n",
    "    print(\"Image '\"+str(k-20)+\"' processed\")\n",
    "    \n",
    "    # Выполнение дилатации над исходным изображением\n",
    "    img_dilat[k] = morphology.dilation(img[k])\n",
    "    # Вычитание из нового изображения старого\n",
    "    img_result[k] = img_dilat[k] - img[k]\n",
    "    \n",
    "    # Вычисление значения резкости по формуле\n",
    "    focus_value[k] = ndimage.sum(img_result[k])\n",
    "    \n",
    "print(focus_value, '\\n')"
   ]
  },
  {
   "cell_type": "markdown",
   "metadata": {},
   "source": [
    "2) Построим фокусирочную кривую и определим сфокусировонное изображение как максимум данной кривой:"
   ]
  },
  {
   "cell_type": "code",
   "execution_count": null,
   "metadata": {},
   "outputs": [],
   "source": [
    "y_axis = focus_value\n",
    "x_axis = np.linspace(-20, 20, len(y_axis), endpoint=True)\n",
    "plt.plot(x_axis,y_axis)\n",
    "plt.xlabel('Номер изображения (z-ось)')\n",
    "plt.ylabel('Значение резкости (ед.)')\n",
    "plt.grid()\n",
    "plt.show()\n",
    "\n",
    "focused_num_Edge = int(x_axis[y_axis.index(max(y_axis))])\n",
    "print(\"Сфокусированное изображение:\", focused_num_Edge)"
   ]
  },
  {
   "cell_type": "markdown",
   "metadata": {},
   "source": [
    "3) Посмотрим на данное изображение:"
   ]
  },
  {
   "cell_type": "code",
   "execution_count": null,
   "metadata": {
    "scrolled": true
   },
   "outputs": [],
   "source": [
    "plt.imshow(img[y_axis.index(max(y_axis))], 'gray')\n",
    "plt.title('Сфокусированное изображние №'+str(focused_num_Edge))\n",
    "plt.axis('off')\n",
    "plt.show()"
   ]
  },
  {
   "cell_type": "markdown",
   "metadata": {},
   "source": [
    "## Анализ полученных данных\n",
    "\n",
    "Проанализировать (описать) полученную фокусировочную кривую в соответсвии с критериями:   \n",
    "- точности;\n",
    "- локальных максимумов;\n",
    "- области значений;\n",
    "- ширины;\n",
    "- уровня шума."
   ]
  },
  {
   "cell_type": "markdown",
   "metadata": {},
   "source": [
    "### // Ответ можно написать ниже\n",
    "/    \n",
    "/   \n",
    "/   \n",
    "/   \n",
    "/   "
   ]
  },
  {
   "cell_type": "markdown",
   "metadata": {},
   "source": [
    "# Подведение итогов"
   ]
  },
  {
   "cell_type": "markdown",
   "metadata": {},
   "source": [
    "Сравним отклонения изображений, определенных алгоритмами как наиболее сфокусированных:"
   ]
  },
  {
   "cell_type": "code",
   "execution_count": null,
   "metadata": {},
   "outputs": [],
   "source": [
    "dictionary_of_results = {'Autocorrelation':focused_num_Autocorrelation, 'Bayess':focused_num_Bayess, \n",
    "                         'DWT':focused_num_DWT, 'Edge':focused_num_Edge, 'Laplace':focused_num_Laplace,\n",
    "                         'Gauss':focused_num_SKGP, 'Tenenbaum':focused_num_Tenenbaum, 'Variance':focused_num_Variance} \n",
    "print(dictionary_of_results)\n",
    "\n",
    "# Построим график\n",
    "plt.bar(range(len(dictionary_of_results)), list(dictionary_of_results.values()), align='center')\n",
    "plt.grid()\n",
    "plt.xticks(range(len(dictionary_of_results)), list(dictionary_of_results.keys()), rotation='vertical')\n",
    "plt.show()"
   ]
  },
  {
   "cell_type": "markdown",
   "metadata": {},
   "source": [
    "### Написать вывод о пригодности каждого алгоритма для задач пассивной автофокусировки\n",
    "/    \n",
    "/   \n",
    "/   \n",
    "/   \n",
    "/   "
   ]
  },
  {
   "cell_type": "markdown",
   "metadata": {},
   "source": [
    "# Список рекомендуемой литературы"
   ]
  },
  {
   "cell_type": "markdown",
   "metadata": {},
   "source": [
    "1. Wu Q., Merchant F. A., Castleman K. R. 1.\tMicroscope Image Processing // Oxford: Academic Press, 2008. 548 pp..\n",
    "2. Артюхова О.А., Самородов А.В. Сравнительное исследование характеристик резкости микроскопических изображений медико-биологических препаратов // Медицинская техника.  2011. №1. С. 15-22.\n",
    "3. Liu X.Y., Wang W.H., Sun Y. Dynamic evaluation of autofocusing for automated microscopic analysis of blood smear and pap smear // Journal of Microscopy – 2007. Vol. 227. P. 15-23.\n",
    "4. Sun Y., Duthaler S., Nelson B.J. Autofocusing in computer microscopy: Selecting the optimal focus algorithm // Microscopy Research and Technique. 2004.  Vol. 65. P. 139-149.\n",
    "5. Chen C.Y., Hwang R.C, Chen Y.J. A passive auto-focus camera control system // Applied Soft Computing. 2010. Vol. 10. P. 296-303. \n",
    "6. 1.\tSantos A., Solorzano C.O., Vaquero J.J., Pena J.M., Malpica N., Pozo, F. Evaluation of autofocus functions in molecular cytogenetic analysis // J. Microsc. 188, P. 264–272. \n",
    "7. Firestone L, Cook K, Culp K, Talsania N, Preston K. Comparison of autofocus methods for automated microscopy // Cytometry 12: P. 195–206.\n"
   ]
  }
 ],
 "metadata": {
  "kernelspec": {
   "display_name": "Python 3",
   "language": "python",
   "name": "python3"
  },
  "language_info": {
   "codemirror_mode": {
    "name": "ipython",
    "version": 3
   },
   "file_extension": ".py",
   "mimetype": "text/x-python",
   "name": "python",
   "nbconvert_exporter": "python",
   "pygments_lexer": "ipython3",
   "version": "3.6.5"
  }
 },
 "nbformat": 4,
 "nbformat_minor": 2
}
